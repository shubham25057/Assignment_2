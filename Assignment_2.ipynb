{
 "cells": [
  {
   "cell_type": "code",
   "execution_count": 1,
   "id": "2b829042-e044-4eab-b96d-ee4b52418ebc",
   "metadata": {},
   "outputs": [],
   "source": [
    "# Question 1 "
   ]
  },
  {
   "cell_type": "code",
   "execution_count": 2,
   "id": "5796c3e3-3a61-4999-ac2f-59b96b51d81d",
   "metadata": {},
   "outputs": [],
   "source": [
    "# There is two type of comment :\n",
    "# 1. single line comment ,which is denoted by '#\"\n",
    "# 2. multiple line comment , which is denoted by ' \"\"\" \"\"\" '"
   ]
  },
  {
   "cell_type": "code",
   "execution_count": 3,
   "id": "94a04049-e275-4b5c-b75c-4328dd3260f6",
   "metadata": {},
   "outputs": [],
   "source": [
    "# Queestion_2"
   ]
  },
  {
   "cell_type": "code",
   "execution_count": 4,
   "id": "4ac2e20c-0939-44f3-b346-244f71330aca",
   "metadata": {},
   "outputs": [],
   "source": [
    "# Variables are containers for storing data values."
   ]
  },
  {
   "cell_type": "code",
   "execution_count": 5,
   "id": "900c68da-4f67-4537-89d7-3a340f5d23dd",
   "metadata": {},
   "outputs": [],
   "source": [
    "a= 34\n",
    "b = 'shubham'  # a and b are variable which contain value"
   ]
  },
  {
   "cell_type": "code",
   "execution_count": 6,
   "id": "7f0a0c26-7a29-49e7-859c-2af2983f4d5e",
   "metadata": {},
   "outputs": [
    {
     "data": {
      "text/plain": [
       "34"
      ]
     },
     "execution_count": 6,
     "metadata": {},
     "output_type": "execute_result"
    }
   ],
   "source": [
    "a"
   ]
  },
  {
   "cell_type": "code",
   "execution_count": 7,
   "id": "638fe5f0-e962-4310-9328-8d36f409bffa",
   "metadata": {},
   "outputs": [
    {
     "data": {
      "text/plain": [
       "'shubham'"
      ]
     },
     "execution_count": 7,
     "metadata": {},
     "output_type": "execute_result"
    }
   ],
   "source": [
    "b"
   ]
  },
  {
   "cell_type": "code",
   "execution_count": 8,
   "id": "261a44f5-a8f7-4d7e-8d5d-54838656dba1",
   "metadata": {},
   "outputs": [],
   "source": [
    "# Question 3"
   ]
  },
  {
   "cell_type": "code",
   "execution_count": 9,
   "id": "556ff776-fe86-481d-a7fe-097d730ca78d",
   "metadata": {},
   "outputs": [],
   "source": [
    "c = '32'"
   ]
  },
  {
   "cell_type": "code",
   "execution_count": 10,
   "id": "22c7d00c-f761-46eb-8cca-13874d34b15a",
   "metadata": {},
   "outputs": [
    {
     "data": {
      "text/plain": [
       "'32'"
      ]
     },
     "execution_count": 10,
     "metadata": {},
     "output_type": "execute_result"
    }
   ],
   "source": [
    "c"
   ]
  },
  {
   "cell_type": "code",
   "execution_count": 11,
   "id": "57745b75-f95f-433e-9442-232302dcee85",
   "metadata": {},
   "outputs": [
    {
     "data": {
      "text/plain": [
       "32"
      ]
     },
     "execution_count": 11,
     "metadata": {},
     "output_type": "execute_result"
    }
   ],
   "source": [
    "int(c)"
   ]
  },
  {
   "cell_type": "code",
   "execution_count": 12,
   "id": "bf89e12b-57e4-4a5d-824f-ca48d279b78e",
   "metadata": {},
   "outputs": [],
   "source": [
    "#Question 4"
   ]
  },
  {
   "cell_type": "code",
   "execution_count": 14,
   "id": "ee2e1222-f597-431f-8005-8bedd9aa4809",
   "metadata": {},
   "outputs": [],
   "source": [
    "# Open cmd  \n",
    "# python - v \n",
    "# python \n",
    "# print('Hello Shubham') \n",
    "# o/p - Hello  Shubham\"\"\""
   ]
  },
  {
   "cell_type": "code",
   "execution_count": 15,
   "id": "524ede2e-8e06-4bf5-8575-da952226706c",
   "metadata": {},
   "outputs": [],
   "source": [
    "# Question 5"
   ]
  },
  {
   "cell_type": "code",
   "execution_count": 16,
   "id": "77836207-b481-408b-a018-313b9248eca8",
   "metadata": {},
   "outputs": [],
   "source": [
    " my_list = [1, 2, 3, 4, 5]"
   ]
  },
  {
   "cell_type": "code",
   "execution_count": 17,
   "id": "5a9117e0-b8d0-4753-8cf2-9512d3896bfa",
   "metadata": {},
   "outputs": [
    {
     "data": {
      "text/plain": [
       "[1, 2, 3, 4, 5]"
      ]
     },
     "execution_count": 17,
     "metadata": {},
     "output_type": "execute_result"
    }
   ],
   "source": [
    "my_list"
   ]
  },
  {
   "cell_type": "code",
   "execution_count": 19,
   "id": "72110070-8f59-42da-a102-6dc63ac341e7",
   "metadata": {},
   "outputs": [
    {
     "data": {
      "text/plain": [
       "[2, 3]"
      ]
     },
     "execution_count": 19,
     "metadata": {},
     "output_type": "execute_result"
    }
   ],
   "source": [
    "my_list[1:3]"
   ]
  },
  {
   "cell_type": "code",
   "execution_count": 20,
   "id": "c77545ad-69c7-4f31-996b-da648fcff835",
   "metadata": {},
   "outputs": [],
   "source": [
    "# Question 6"
   ]
  },
  {
   "cell_type": "code",
   "execution_count": 21,
   "id": "4363c69a-b242-4874-a59a-425c6c9c6c6c",
   "metadata": {},
   "outputs": [],
   "source": [
    "# Complex numbers are the numbers that are expressed in the form of a+ib where, a,b are real numbers and  ‘i’ is an imaginary number"
   ]
  },
  {
   "cell_type": "code",
   "execution_count": 22,
   "id": "4f6bfc83-b861-425f-a7b5-87fef72d3a82",
   "metadata": {},
   "outputs": [],
   "source": [
    "c= 2+3j"
   ]
  },
  {
   "cell_type": "code",
   "execution_count": 23,
   "id": "e1e936f2-a1ec-48fa-84c5-d1ab6612e887",
   "metadata": {},
   "outputs": [
    {
     "data": {
      "text/plain": [
       "complex"
      ]
     },
     "execution_count": 23,
     "metadata": {},
     "output_type": "execute_result"
    }
   ],
   "source": [
    "type(c)"
   ]
  },
  {
   "cell_type": "code",
   "execution_count": 24,
   "id": "1e812417-c934-4155-ad4e-0fcef816407d",
   "metadata": {},
   "outputs": [],
   "source": [
    "# Question 7"
   ]
  },
  {
   "cell_type": "code",
   "execution_count": 25,
   "id": "c252961e-8b1b-4002-90a9-d55deaa6e1c9",
   "metadata": {},
   "outputs": [],
   "source": [
    "age = 25"
   ]
  },
  {
   "cell_type": "code",
   "execution_count": 26,
   "id": "ff60036b-acc9-4b18-81da-11e4edfb66a4",
   "metadata": {},
   "outputs": [
    {
     "data": {
      "text/plain": [
       "25"
      ]
     },
     "execution_count": 26,
     "metadata": {},
     "output_type": "execute_result"
    }
   ],
   "source": [
    "age"
   ]
  },
  {
   "cell_type": "code",
   "execution_count": 27,
   "id": "2a20729e-6bb9-4284-8a99-71adebef1624",
   "metadata": {},
   "outputs": [],
   "source": [
    "# Question 8"
   ]
  },
  {
   "cell_type": "code",
   "execution_count": 28,
   "id": "a6ea4d20-dadd-40ce-b5fb-70e668019142",
   "metadata": {},
   "outputs": [],
   "source": [
    "price = 9.9"
   ]
  },
  {
   "cell_type": "code",
   "execution_count": 29,
   "id": "3e567578-4798-4343-a362-beb0f5189951",
   "metadata": {},
   "outputs": [
    {
     "data": {
      "text/plain": [
       "9.9"
      ]
     },
     "execution_count": 29,
     "metadata": {},
     "output_type": "execute_result"
    }
   ],
   "source": [
    "price"
   ]
  },
  {
   "cell_type": "code",
   "execution_count": 30,
   "id": "bfc5fa82-efcd-4d1a-84ad-e52e4c1e1495",
   "metadata": {},
   "outputs": [
    {
     "data": {
      "text/plain": [
       "float"
      ]
     },
     "execution_count": 30,
     "metadata": {},
     "output_type": "execute_result"
    }
   ],
   "source": [
    "type(price)"
   ]
  },
  {
   "cell_type": "code",
   "execution_count": 31,
   "id": "79886b35-d542-4508-8f57-5dfe003d7684",
   "metadata": {},
   "outputs": [],
   "source": [
    "# Question 9"
   ]
  },
  {
   "cell_type": "code",
   "execution_count": 32,
   "id": "8dc52e41-ed00-4006-9e6a-a52144da6e31",
   "metadata": {},
   "outputs": [],
   "source": [
    "name = \"Shubham Gautam\""
   ]
  },
  {
   "cell_type": "code",
   "execution_count": 33,
   "id": "ee051258-64e6-4018-828d-d37b6b30b382",
   "metadata": {},
   "outputs": [
    {
     "data": {
      "text/plain": [
       "'Shubham Gautam'"
      ]
     },
     "execution_count": 33,
     "metadata": {},
     "output_type": "execute_result"
    }
   ],
   "source": [
    "name"
   ]
  },
  {
   "cell_type": "code",
   "execution_count": 34,
   "id": "80de5e99-f021-4cf6-bf3e-d73f75d05a2b",
   "metadata": {},
   "outputs": [
    {
     "data": {
      "text/plain": [
       "str"
      ]
     },
     "execution_count": 34,
     "metadata": {},
     "output_type": "execute_result"
    }
   ],
   "source": [
    "type(name)"
   ]
  },
  {
   "cell_type": "code",
   "execution_count": 35,
   "id": "5c567749-267e-49dc-a71a-3a3c16138bd5",
   "metadata": {},
   "outputs": [],
   "source": [
    "# Question 10"
   ]
  },
  {
   "cell_type": "code",
   "execution_count": 36,
   "id": "0551ca57-b6f9-42d0-93ca-c4cb40b8077c",
   "metadata": {},
   "outputs": [],
   "source": [
    "a = \"Hello World\""
   ]
  },
  {
   "cell_type": "code",
   "execution_count": 39,
   "id": "c9275c89-d3d0-42c0-89bf-1e5c54fb5a7e",
   "metadata": {},
   "outputs": [
    {
     "data": {
      "text/plain": [
       "'Hello'"
      ]
     },
     "execution_count": 39,
     "metadata": {},
     "output_type": "execute_result"
    }
   ],
   "source": [
    "a[:5]"
   ]
  },
  {
   "cell_type": "code",
   "execution_count": 40,
   "id": "d402b8c3-e6c6-4402-b1d0-56ec21103fd9",
   "metadata": {},
   "outputs": [],
   "source": [
    "# Question 11"
   ]
  },
  {
   "cell_type": "code",
   "execution_count": 41,
   "id": "93eada96-62fb-46a4-8308-60c6d015f365",
   "metadata": {},
   "outputs": [],
   "source": [
    "is_student = True "
   ]
  },
  {
   "cell_type": "code",
   "execution_count": 43,
   "id": "8d0fe92c-63c1-4619-9799-7b247d936811",
   "metadata": {},
   "outputs": [
    {
     "data": {
      "text/plain": [
       "True"
      ]
     },
     "execution_count": 43,
     "metadata": {},
     "output_type": "execute_result"
    }
   ],
   "source": [
    "is_student"
   ]
  },
  {
   "cell_type": "code",
   "execution_count": null,
   "id": "e9a36fa3-a7eb-495f-bb7b-2dad46c19b8f",
   "metadata": {},
   "outputs": [],
   "source": []
  }
 ],
 "metadata": {
  "kernelspec": {
   "display_name": "Python 3 (ipykernel)",
   "language": "python",
   "name": "python3"
  },
  "language_info": {
   "codemirror_mode": {
    "name": "ipython",
    "version": 3
   },
   "file_extension": ".py",
   "mimetype": "text/x-python",
   "name": "python",
   "nbconvert_exporter": "python",
   "pygments_lexer": "ipython3",
   "version": "3.10.8"
  }
 },
 "nbformat": 4,
 "nbformat_minor": 5
}
